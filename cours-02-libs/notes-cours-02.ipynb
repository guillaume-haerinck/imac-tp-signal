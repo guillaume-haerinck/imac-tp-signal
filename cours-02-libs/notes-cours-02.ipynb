{
 "cells": [
  {
   "cell_type": "markdown",
   "metadata": {},
   "source": [
    "\n",
    "\n",
    "Coder le signal de période $T_0 = \\frac {1}{T} $\n",
    "\n",
    "$$S_N^1(t) = \\frac {1}{2} + \\frac {2}{\\pi} \\sum_{l=0}^{\\infty} \\frac {(-1)^l} {(2l + 1)} cos(2 \\pi f_0 (2l + 1)t)$$\n",
    "\n",
    "Puis le transformer en\n",
    "\n",
    "$$S_N^2(t) = \\frac {1}{2} + \\frac {2}{\\pi} \\sum_{l=0}^{\\infty} \\frac {(-1)^l} {(2l + 1)} cos(2 \\pi f_0 (2l + 1)t + \\phi l)$$\n",
    "\n",
    "Nous fixons $N = 20$ et $f_0=440 Hz$, et $\\phi l$ choisies selon notre souhait"
   ]
  },
  {
   "cell_type": "code",
   "execution_count": 14,
   "metadata": {},
   "outputs": [
    {
     "data": {
      "text/plain": [
       "[<matplotlib.lines.Line2D at 0x124027c8438>]"
      ]
     },
     "execution_count": 14,
     "metadata": {},
     "output_type": "execute_result"
    },
    {
     "data": {
      "image/png": "[encoded data removed]",
      "text/plain": [
       "<Figure size 432x288 with 1 Axes>"
      ]
     },
     "metadata": {
      "needs_background": "light"
     },
     "output_type": "display_data"
    }
   ],
   "source": [
    "import matplotlib.pyplot as plt\n",
    "import numpy as np\n",
    "\n",
    "Fs = 44100\n",
    "Ts = 1/Fs\n",
    "\n",
    "f0 = 440\n",
    "N = 20\n",
    "l = 1\n",
    "\n",
    "t = np.arange(0, 3, Ts)\n",
    "plt.plot(t, 1 / 2 + 2 * math.pi + (-1 ** l) / (2 * l + 1) * np.cos(2 * math.pi * f0 * (2 * l + 1) * t))"
   ]
  },
  {
   "cell_type": "code",
   "execution_count": null,
   "metadata": {},
   "outputs": [],
   "source": []
  }
 ],
 "metadata": {
  "kernelspec": {
   "display_name": "Python 3",
   "language": "python",
   "name": "python3"
  },
  "language_info": {
   "codemirror_mode": {
    "name": "ipython",
    "version": 3
   },
   "file_extension": ".py",
   "mimetype": "text/x-python",
   "name": "python",
   "nbconvert_exporter": "python",
   "pygments_lexer": "ipython3",
   "version": "3.7.1"
  }
 },
 "nbformat": 4,
 "nbformat_minor": 2
}
