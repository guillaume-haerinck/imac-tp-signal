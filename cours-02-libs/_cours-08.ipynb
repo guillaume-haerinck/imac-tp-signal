{
 "cells": [
  {
   "cell_type": "markdown",
   "metadata": {},
   "source": [
    "Voici quelques fonctions utiles qui vous permettront de répondre aux questions du TD (Séries de Fourier, feuille no2)"
   ]
  },
  {
   "cell_type": "code",
   "execution_count": 30,
   "metadata": {},
   "outputs": [
    {
     "data": {
      "image/png": "[encoded data removed]",
      "text/plain": [
       "<Figure size 432x288 with 1 Axes>"
      ]
     },
     "metadata": {
      "needs_background": "light"
     },
     "output_type": "display_data"
    }
   ],
   "source": [
    "%matplotlib inline\n",
    "import matplotlib.pyplot as plt\n",
    "import numpy as np\n",
    "from scipy.io import wavfile as io\n",
    "\n",
    "\n",
    "class signal_mono: \n",
    "    pass\n",
    "\n",
    "## on conviendra que les champs d'un signal_mono sont : \n",
    "##  signal.x  : les valeurs du signal \n",
    "##  signal.N= : le nombre d'échantillons \n",
    "##  signal.Fs : la frequence d'echantillonnage en Hz\n",
    "##  signal.t : le vecteur des temps associé\n",
    "\n",
    "\n",
    "\n",
    "\n",
    "def normaliser_son_mono(x):\n",
    "    M = np.max(abs(x)); ## la plus grande valeur absolue du signal\n",
    "    return  x/M;   ### conversion automatique au format réel et normalisation \n",
    "\n",
    "\n",
    "def creer_signal(valeurs,Fs):\n",
    "    out = signal_mono()\n",
    "    out.x = normaliser_son_mono(valeurs)\n",
    "    out.N= np.size(out.x)\n",
    "    out.Fs=Fs\n",
    "    out.t=np.arange(out.N)/Fs\n",
    "    return out\n",
    "\n",
    "def extraire(signal,t_min,t_max):\n",
    "    condition = ( signal.t   < t_max )*( signal.t > t_min)\n",
    "    out= signal_mono\n",
    "    out.x = np.extract(condition,signal.x)\n",
    "    out.t=np.extract(condition,signal.t)\n",
    "    out.N= signal.N\n",
    "    out.Fs=signal.Fs\n",
    "    return out\n",
    "\n",
    "def enregistrer_son(nom_fichier,signal,Fs):\n",
    "    y=0.5*normaliser_son_mono(signal.x)  ### le facteur 0.5 pour éviter d'exploser les oreilles...\n",
    "    scaled = np.round(32767*y)   ### passage en 16 bits\n",
    "    newdata = scaled.astype(np.int16)   ### conversion en type int\n",
    "    io.write(nom_fichier, Fs, newdata)   ### codage en wav\n",
    "\n",
    "    \n",
    "def rectangle(t):\n",
    "    condition = ( ((t%1) <= 0.25) | ((t%1) >= 0.75))\n",
    "    x = 1*condition\n",
    "    return x\n",
    "\n",
    "def fourier_rect(N):   ### les coefficients a0,a1,...aN calculés en cours\n",
    "    a = np.zeros(N)\n",
    "    a[0]=1\n",
    "    indices=np.arange(1,N,2)\n",
    "    a[indices]=((2/(np.pi))/indices)*((-1)**(np.round((indices-1)/2)))\n",
    "    return a\n",
    "\n",
    "\n",
    "Fs=44100\n",
    "Ts=1/Fs\n",
    "\n",
    "f0=440\n",
    "t=np.arange(0,3,Ts)    ## un vecteur des temps entre 0 et 3 secondes avec un pas de Ts\n",
    "x=creer_signal(rectangle(t*f0),Fs)\n",
    "\n",
    "xx = extraire(x,0,10/440)\n",
    "    \n",
    "plt.plot(xx.t,xx.x)\n",
    "plt.show()\n",
    "\n",
    "enregistrer_son(\"son_rectangle.wav\",x,Fs)\n"
   ]
  },
  {
   "cell_type": "code",
   "execution_count": null,
   "metadata": {},
   "outputs": [],
   "source": [
    "\n",
    "\n",
    "\n"
   ]
  }
 ],
 "metadata": {
  "kernelspec": {
   "display_name": "Python 3",
   "language": "python",
   "name": "python3"
  },
  "language_info": {
   "codemirror_mode": {
    "name": "ipython",
    "version": 3
   },
   "file_extension": ".py",
   "mimetype": "text/x-python",
   "name": "python",
   "nbconvert_exporter": "python",
   "pygments_lexer": "ipython3",
   "version": "3.7.1"
  }
 },
 "nbformat": 4,
 "nbformat_minor": 2
}
