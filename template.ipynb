{
 "cells": [
  {
   "cell_type": "markdown",
   "metadata": {},
   "source": [
    "# Titre du TP\n",
    "\n",
    "Nicolas Lienart & Guillaume Haerinck. Traitement du signal IMAC 2019.\n",
    "\n",
    "# 0 Introduction\n",
    "\n",
    "Explication de la raison d'être du notebook\n",
    "\n",
    "## 0.1 Imports\n",
    "\n",
    "Import de toutes les librairies ici, avec commentaires sur les versions utilisée. En plus de paramétrage des libs."
   ]
  },
  {
   "cell_type": "code",
   "execution_count": null,
   "metadata": {},
   "outputs": [],
   "source": [
    "# Data manipulation\n",
    "import numpy as np\n",
    "\n",
    "# Inputs & outputs\n",
    "from scipy.io import wavfile as io\n",
    "\n",
    "# Visualizations\n",
    "import matplotlib.pyplot as plt\n",
    "%matplotlib inline\n",
    "\n",
    "# Allow detection of modification in external code \n",
    "%load_ext autoreload\n",
    "%autoreload 2"
   ]
  },
  {
   "cell_type": "markdown",
   "metadata": {},
   "source": [
    "## 0.2 Fonctions\n",
    "\n",
    "Déclaration des fonctions réutilisées"
   ]
  },
  {
   "cell_type": "code",
   "execution_count": null,
   "metadata": {},
   "outputs": [],
   "source": []
  },
  {
   "cell_type": "markdown",
   "metadata": {},
   "source": [
    "## 0.3 Définitions\n",
    "\n",
    "On indique le vocabulaire nouveau ainsi que les trucs marquant niveau code.\n",
    "\n",
    "- **TFTD** : Transformée de Fourier à temps discret\n",
    "\n",
    "## 0.4 Référence code\n",
    "\n",
    "On link sur la doc pour les fonctions les plus poussées\n",
    "\n",
    "- [np.vdot()](https://docs.scipy.org/doc/numpy/reference/generated/numpy.vdot.html) : Produit scalaire hermitien"
   ]
  },
  {
   "cell_type": "markdown",
   "metadata": {},
   "source": [
    "# 1 Début du TP\n",
    "\n",
    "## 1.1 Nom de la question\n",
    "\n",
    "Explication de la question, puis réponse"
   ]
  },
  {
   "cell_type": "code",
   "execution_count": null,
   "metadata": {},
   "outputs": [],
   "source": []
  }
 ],
 "metadata": {
  "kernelspec": {
   "display_name": "Python 3",
   "language": "python",
   "name": "python3"
  },
  "language_info": {
   "codemirror_mode": {
    "name": "ipython",
    "version": 3
   },
   "file_extension": ".py",
   "mimetype": "text/x-python",
   "name": "python",
   "nbconvert_exporter": "python",
   "pygments_lexer": "ipython3",
   "version": "3.7.1"
  }
 },
 "nbformat": 4,
 "nbformat_minor": 2
}
