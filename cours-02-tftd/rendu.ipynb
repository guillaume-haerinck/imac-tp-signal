{
 "cells": [
  {
   "cell_type": "markdown",
   "metadata": {},
   "source": [
    "### Question 3)\n",
    "\n",
    "1. Montrez que la TFTD du signal complexe $\\left( \\exp(i 2\\pi \\nu_0 n) \\right)_{n=0,...,N-1}$ est \n",
    "$$\n",
    "\\exp(i\\pi (\\nu_0-\\nu) (N-1)\\frac{\\sin(\\pi N (\\nu-\\nu_0) ) }{\\sin(\\pi (\\nu - \\nu_0))}\n",
    "$$\n",
    "Quel est le lien avec le noyau de Dirichlet? "
   ]
  },
  {
   "cell_type": "markdown",
   "metadata": {},
   "source": [
    "Réponse à la question :\n",
    "\n",
    "$$\n",
    "\\begin{align*}\n",
    "X(\\nu)= & \\sum_{n=0}^{N-1}e^{i2-\\pi n\\nu_{0}}e^{i2-\\pi n\\nu}\\\\\n",
    "= & \\sum_{n=0}^{N-1}e^{i2-\\pi n(\\nu_{0}-\\nu)}\\\\\n",
    "= & 1+z+...+z^{N-1}\n",
    "\\end{align*}\n",
    "$$"
   ]
  },
  {
   "cell_type": "code",
   "execution_count": null,
   "metadata": {},
   "outputs": [],
   "source": []
  }
 ],
 "metadata": {
  "kernelspec": {
   "display_name": "Python 3",
   "language": "python",
   "name": "python3"
  },
  "language_info": {
   "codemirror_mode": {
    "name": "ipython",
    "version": 3
   },
   "file_extension": ".py",
   "mimetype": "text/x-python",
   "name": "python",
   "nbconvert_exporter": "python",
   "pygments_lexer": "ipython3",
   "version": "3.7.1"
  }
 },
 "nbformat": 4,
 "nbformat_minor": 2
}
