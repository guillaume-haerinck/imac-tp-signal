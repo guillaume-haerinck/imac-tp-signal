{
 "cells": [
  {
   "cell_type": "markdown",
   "metadata": {},
   "source": [
    "# IMAC 1 : sujet de TP no 2\n",
    "\n",
    "Voici quelques fonctions élémentaires Python qui vous permettent de visualiser, enregistrer, etc."
   ]
  },
  {
   "cell_type": "code",
   "execution_count": 21,
   "metadata": {},
   "outputs": [],
   "source": [
    "%matplotlib inline\n",
    "import matplotlib.pyplot as plt\n",
    "import numpy as np\n",
    "from scipy.io import wavfile as io\n",
    "\n",
    "\n",
    "class signal_mono: \n",
    "    pass\n",
    "\n",
    "## on conviendra que les champs d'un signal_mono sont : \n",
    "##  signal.x  : les valeurs du signal \n",
    "##  signal.N= : le nombre d'échantillons \n",
    "##  signal.Fs : la frequence d'echantillonnage en Hz\n",
    "##  signal.t : le vecteur des temps associé\n",
    "## EXEMPLE D'APPLICATION :  plt.plot(signal.t,signal.x)\n",
    "\n",
    "\n",
    "\n",
    "\n",
    "\n",
    "def normaliser_son_mono(x):\n",
    "    M = np.max(abs(x)); ## la plus grande valeur absolue du signal\n",
    "    return  x/M;   ### conversion automatique au format réel et normalisation \n",
    "\n",
    "\n",
    "def creer_signal(valeurs,Fs):\n",
    "    out = signal_mono()\n",
    "    out.x = normaliser_son_mono(valeurs)\n",
    "    out.N= np.size(out.x)\n",
    "    out.Fs=Fs\n",
    "    out.t=np.arange(out.N)/Fs\n",
    "    return out\n",
    "\n",
    "def extraire(signal,t_min,t_max):\n",
    "    condition = ( signal.t   < t_max )*( signal.t > t_min)\n",
    "    out= signal_mono\n",
    "    out.x = np.extract(condition,signal.x)\n",
    "    out.t=np.extract(condition,signal.t)\n",
    "    out.N= signal.N\n",
    "    out.Fs=signal.Fs\n",
    "    return out\n",
    "\n",
    "def enregistrer_son(nom_fichier,signal,Fs):\n",
    "    y=0.5*normaliser_son_mono(signal.x)  ### le facteur 0.5 pour éviter d'exploser les oreilles...\n",
    "    scaled = np.round(32767*y)   ### passage en 16 bits\n",
    "    newdata = scaled.astype(np.int16)   ### conversion en type int\n",
    "    io.write(nom_fichier, Fs, newdata)   ### codage en wav"
   ]
  },
  {
   "cell_type": "markdown",
   "metadata": {},
   "source": [
    "\n",
    "\n",
    "\n",
    "## Partie no 1 \n",
    "\n",
    "Soit $f_0$ une fréquence donnée et G et P deux vecteurs de même taille - disons $N$. Les composantes de $G$ sont positives (ce sont les gains) et celles de $P$ sont des angles exprimés en radians (ce sont les phases) : voir l'exercice no1 de la seconde feuille de TD sur les séries de Fourier. On associe alors le signal \n",
    "$$\n",
    "x(t)=\\sum_{n=0}^{N-1}G_n \\cos(2\\pi n f_0 t+ P_n).\n",
    "$$\n",
    "\n",
    "1) Codez  une fonction Python que vous nommerez **creer_signal_periodique** qui à $P,G,f_0$ et aussi une durée $T$ et une fréquence d'échantillonnage $F_s$ retourne un signal de la classe **signal_mono**  \n",
    "\n",
    "2) Reprenez l'exemple du rectangle périodique, pair, vu en cours. Exprimez les coefficients $G_k$ et $P_k$.\n",
    "\n",
    "3) Appliquez **creer_signal_periodique** avec les coefficients définis à la question précédente pour le choix des paramètres suivant : $N=20$, $f_0=440$Hz, $T=4$s et $F_s=22050$Hz. Visualisez le signal sur l'intervalle $[1, 1.01]$ (en seoondes) : vous pourrez utiliser la fonction **extraire**. Ensuite, écoutez le signal.\n",
    "\n",
    "4) Reprenez la question suivante mais, cette fois, au lieu des phases théoriques du rectangle choisissez des phases aléatoires (calculez un échantillon uniforme sur $[0,2\\pi]$. Le graphe du signal obtenu  est-il très différent d'un rectangle périodique? Percevez-vous une différence entre le son obtenu et le son du rectangle? \n",
    "\n",
    "5) Choisissez un jeu de gains qui engendre, selon vous, un son intéressant (on dirait : un timbre qui vous plait. D'ailleurs, pourquoi vous plait-il?). Modifiez les phases de manière aléatoire et écoutez le \"nouveau son\". Cette expérience illustre-t-elle le principe selon lequel l'oreille n'est pas sensible aux phases? \n",
    "\n",
    "## Partie no 2\n",
    "\n",
    "Soit le signal de période $2\\pi$ défini pour tout entier $k\\geq 0$ et tout $t\\in[0,2\\pi]$ par :  \n",
    "$$\n",
    "x_k(t)=t^k.\n",
    "$$\n",
    "Notons $c_k[n]$ les coefficients de Fourier de $x_k$. Faites attention à la position des indices! \n",
    "\n",
    "1) Rappelez l'expression de $c_k[n]$.\n",
    "\n",
    "2) Calculez pour tout entier naturel $k$ le coefficient $c_k[0]$.\n",
    "\n",
    "3) Calculez $c_0[n]$ pour tout $n\\neq 0$\n",
    "\n",
    "4) En effectuant une IPP bien choisie montrez que pour tout $k\\geq 1$ et tout $n\\neq 0$ on a \n",
    "$$\n",
    "c_k[n]=\\frac{i}{n} \\left(\\alpha_k -\\beta_k c_{k-1}[n]   \\right)  \n",
    "$$\n",
    "où vous déterminerez les constantes $\\alpha_k$ et $\\beta_k$. \n",
    "\n",
    "5) Calculez, en utilisant la formule de récurrence précédente, $c_1[n]$ et $c_2[n]$ pour tout $n\\neq 0$. \n",
    "\n",
    "6) Soit maintenant la fonction $2\\pi$-périodique définie sur $[0,2\\pi]$ par \n",
    "$$\n",
    "x(t)=\\lambda_1 t +\\lambda_2 t^2\n",
    "$$\n",
    "où $\\lambda_1,\\lambda_2$ sont des constantes. \n",
    "Quels sont les coefficients de Fourier complexes $c[n]$ de ce signal? (vous utiliserez les résultas de la question qui précède)\n",
    "\n",
    "7) Afin de répondre à la question  qui suit, reportez-vous aux résultats de l'exercice 4 de la seconde feuille d'exercices sur les séries de Fourier. \n",
    "   Quelle est la condition sur $\\lambda_1$ et $\\lambda_2$ pour que le signal soit continu sur $\\mathbb{R}$? A quelle vitesse décroissent les coefficents de Fourier? Est-ce surprenant? \n",
    "   \n",
    "8) (optionnel) Si maintenant $x(t)=\\lambda_1 t +\\lambda_2 t^2+\\lambda_3 t^3$, quel(s) choix de $\\lambda_1,\\lambda_2,\\lambda_2$ assure(nt) une décroissance des coefficients de Fourier en $\\mathcal{O}(1/n^3)$? Que cela implique-t-il sur la régularité de la fonction $x(t)$? \n",
    "   \n",
    "## Partie no 3\n",
    "\n",
    "Soit un son de  hauteur $f_0$. On lui associe l'accord parfait majeur (son initial auquel on superpose sa tierce Majeure supérieure et sa quinte supérieure).\n",
    "\n",
    "1) Synthétiser l'accord parfait évoqué lorsque le son initial est pur (une seule sinusoïde de fréquence $f_0$) et que les rapports de fréquences sont exacts : $5/4$ pour la tierce Majeur et $3/2$ pour la quinte.\n",
    "2) Reprendre la question précédente mais avec des rapports tempérés : $2^{4/12}$ et $2^{7/12}$ respectivement pour la tierce Majeure et la quinte. Entendez-vous une différence avec l'accord parfait de la question précédente? \n",
    "3) Reprenez les deux questions précédentes mais cette fois, vous choisirez un son initial composite (c'est-à-dire avec des harmoniques).  \n",
    "\n",
    "\n",
    "## Partie no 4 (optionnelle)\n",
    "\n",
    "Reprenons le problème des cordes vibrantes. On suppose que la forme de la corde à l'instant initial - la fonction notée $y(0,u)$ pour $u\\in [0,L]$ où $L$ est la longueur de la corde -  est un triangle de hauteur $h$ dont la pointe est d'abcisse $0<u_0<L$. On complète cette fonction (on appelle $\\psi(u)$ la complétée) par symétrie impaire : voir la figure ci-dessous.  La courbe en bleu est la forme de la corde, et celle en rouge la complétée de la courbe bleue par symétrie impaire."
   ]
  },
  {
   "cell_type": "code",
   "execution_count": 20,
   "metadata": {},
   "outputs": [
    {
     "data": {
      "image/png": "[encoded data removed]",
      "text/plain": [
       "<Figure size 432x288 with 1 Axes>"
      ]
     },
     "metadata": {
      "needs_background": "light"
     },
     "output_type": "display_data"
    }
   ],
   "source": [
    "%matplotlib inline\n",
    "import matplotlib.pyplot as plt\n",
    "import numpy as np\n",
    "from scipy.io import wavfile as io\n",
    "h=0.3\n",
    "u0=0.8\n",
    "L=1\n",
    "plt.plot([0, u0 , L],[0, h , 0])\n",
    "plt.plot([0, -u0 , -L],[0, -h , 0],color='red')\n",
    "plt.ylim(-0.8,0.8)\n",
    "plt.xlabel('u')\n",
    "plt.ylabel(r'$\\psi(u)$')\n",
    "#plt.xticks([], [])\n",
    "#plt.yticks([1], [1,1])\n",
    "plt.grid()"
   ]
  },
  {
   "cell_type": "markdown",
   "metadata": {},
   "source": [
    "On se rappelle alors que la solution de l'équation des cordes vibrantes est \n",
    "$$\n",
    "y(t,u)=\\sum_{n=1}^{\\infty} b_n \\cos(2\\pi n f_0 t)\\sin(\\frac{\\pi n u }{L})\n",
    "$$\n",
    "où la fréquence fondamentale $f_0$ est donnée par ($T$ est la tension de la corde et $\\mu$ la masse de la corde par unité de longueur)\n",
    "$$\n",
    "f_0=\\sqrt{\\frac{T}{\\mu}}\\frac{1}{2L}\n",
    "$$\n",
    "et les $b_n$ sont les coefficients de Fourier de la fonction $\\psi$ (étendue par périodicité de période $2L$). \n",
    "\n",
    "1) Calculez  $b_n$ en fonction de $h,L,u_0,n$.\n",
    "\n",
    "2) Quel doit être le rapport $u_0/L$ pour que la 7ème harmonique (qui entraîne un son peu agréable) soit nulle, c'est-à-dire pour que $b_7=0$? \n"
   ]
  }
 ],
 "metadata": {
  "kernelspec": {
   "display_name": "Python 3",
   "language": "python",
   "name": "python3"
  },
  "language_info": {
   "codemirror_mode": {
    "name": "ipython",
    "version": 3
   },
   "file_extension": ".py",
   "mimetype": "text/x-python",
   "name": "python",
   "nbconvert_exporter": "python",
   "pygments_lexer": "ipython3",
   "version": "3.7.1"
  }
 },
 "nbformat": 4,
 "nbformat_minor": 2
}
