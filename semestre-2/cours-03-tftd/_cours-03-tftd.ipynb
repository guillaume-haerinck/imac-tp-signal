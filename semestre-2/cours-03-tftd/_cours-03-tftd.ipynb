{
 "cells": [
  {
   "cell_type": "markdown",
   "metadata": {},
   "source": [
    "Nicolas Lienart & Guillaume Haerinck\n",
    "\n",
    "# TP : initiation à l'estimation de fréquences par la TFTD\n",
    "\n",
    "On rappelle la définition de la TFTD d'un signal de durée $N$ échantillons, calculée à la fréquence normalisée $\\nu $ : \n",
    "$$\n",
    "X(\\nu) = \\sum_{n=0}^{N-1} x[n]e^{-i2\\pi \\nu n}\n",
    "$$\n",
    "\n",
    "Nous allons illustrer le fait que cette fonction est capable, sous certaines conditions, d'estimer les fréquences des sinusoïdes présentes dans un mélange stationnaire. \n",
    "\n",
    "\n",
    "\n",
    "\n",
    "## I Propriétés immédiates et calcul \"brute force\"\n",
    "\n",
    "**propriétés essentielles :** \n",
    "1. la fonction $\\nu \\mapsto X(\\nu)$ est périodique de période $1$\n",
    "2. La fonction $\\nu \\mapsto X(\\nu)$ admet la symétrie Hermitienne \n",
    "    $$\n",
    "    X(-\\nu)=\\overline{X(\\nu)}\n",
    "    $$\n",
    "et donc la fonction $\\nu \\mapsto \\left|X(\\nu)\\right|$ est une fonction paire. \n",
    "\n",
    "**Définition :** on appelle périodogramme du signal la fonction définie par \n",
    "$$\n",
    "I(\\nu)=\\frac{1}{N} \\left| X(\\nu) \\right|^2\n",
    "$$\n",
    "\n",
    "\n",
    "Voici les fonctions Python usuelles : \n"
   ]
  },
  {
   "cell_type": "code",
   "execution_count": 1,
   "metadata": {},
   "outputs": [],
   "source": [
    "%matplotlib inline\n",
    "import matplotlib.pyplot as plt\n",
    "import numpy as np\n",
    "from scipy.io import wavfile as io\n",
    "\n",
    "\n",
    "class signal_mono: \n",
    "    pass\n",
    "\n",
    "\n",
    "## on conviendra que les champs d'un signal_mono sont : \n",
    "##  signal.x  : les valeurs du signal \n",
    "##  signal.N= : le nombre d'échantillons \n",
    "##  signal.Fe : la frequence d'echantillonnage en Hz\n",
    "##  signal.t : le vecteur des temps associé\n",
    "## EXEMPLE D'APPLICATION :  plt.plot(signal.t,signal.x)\n",
    "\n",
    "class periodogramme:\n",
    "    pass\n",
    "## on conviendra que les champs d'un periodogramme (appelons-le S) sont : \n",
    "##  S.val  : les valeurs du spectre \n",
    "##  S.nu : le vecteur des fréquences normalisées \n",
    "##  S.Fe : la frequence d'echantillonnage en Hz\n",
    "## EXEMPLE D'APPLICATION :  plt.plot((S.nu)*XS.Fs,S.val)\n",
    "\n",
    "def creer_periodogramme(valeurs,nu,Fs):\n",
    "    S=spectre()\n",
    "    S.val=valeurs\n",
    "    S.nu = nu\n",
    "    S.Fe = Fs\n",
    "    return(S)\n",
    "\n",
    "\n",
    "def normaliser_son_mono(x):\n",
    "    M = np.max(abs(x)); ## la plus grande valeur absolue du signal\n",
    "    return  x/M;   ### conversion automatique au format réel et normalisation \n",
    "\n",
    "\n",
    "def creer_signal(valeurs,Fe):\n",
    "    out = signal_mono()\n",
    "    out.x = normaliser_son_mono(valeurs)\n",
    "    out.N= np.size(out.x)\n",
    "    out.Fe=Fe\n",
    "    out.t=np.arange(out.N)/Fe\n",
    "    return out\n",
    "\n",
    "def lire_signal(nom_fichier):\n",
    "    rate, data = io.read(nom_fichier)\n",
    "    return(creer)\n",
    "\n",
    "def extraire_signal(signal,t_min,t_max):\n",
    "    condition = ( signal.t   < t_max )*( signal.t > t_min)\n",
    "    out= signal_mono\n",
    "    out.x = np.extract(condition,signal.x)\n",
    "    out.t=np.extract(condition,signal.t)\n",
    "    out.N= np.size(out.x)\n",
    "    out.Fe=signal.Fe\n",
    "    print(np.size(out.x))\n",
    "    return out\n",
    "\n",
    "def enregistrer_son(nom_fichier,signal,Fe):\n",
    "    y=0.5*normaliser_son_mono(signal.x)  ### le facteur 0.5 pour éviter d'exploser les oreilles...\n",
    "    scaled = np.round(32767*y)   ### passage en 16 bits\n",
    "    newdata = scaled.astype(np.int16)   ### conversion en type int\n",
    "    io.write(nom_fichier, Fe, newdata)   ### codage en wav\n",
    "    \n",
    " \n",
    "  "
   ]
  },
  {
   "cell_type": "markdown",
   "metadata": {},
   "source": [
    "### Question no 1 \n",
    "\n",
    "1. Si $\\overrightarrow{x}=(x_0,...,x_{N-1})$ et $\\overrightarrow{y}=(y_0,...,y_{N-1})$ sont deux vecteurs à composantes complexes, on définit le produit scalaire (Hermitien) - en anglais : *Hermitian dot product* - ainsi :\n",
    "$$\n",
    "\\langle \\overrightarrow{x}, \\overrightarrow{y} \\rangle = \\sum_{n=0}^{N-1} \\overline{x_n}y_n.\n",
    "$$\n",
    "Montrez que, **à $\\nu$ fixé**, $X(\\nu)$ est le produit scalaire de deux vecteurs que vous préciserez. \n",
    "2. Supposons donné un signal `x` qui est de classe `signal_mono`. Complétez la fonction ``calcul_TFTD`` qui évalue la TFTD du signal aux fréquences d'un vecteur `nu`.\n",
    "3. La fonction calcul_perdiodogramme vous est donnée.\n",
    "4. Complétez la  fonction `extraire_periodogramme` qui extrait une partie du periodogramme entre deux fréquences données $f_{\\min}$ et $f_{\\max}$.\n"
   ]
  },
  {
   "cell_type": "code",
   "execution_count": 20,
   "metadata": {},
   "outputs": [],
   "source": [
    "### Aide : np.exp(1j*angle) calcule l'exponentielle complexe\n",
    "###        la fonction numpy np.vdot effectue un produit scalaire Hermitien de deux vecteurs\n",
    "###        ayant la même taille\n",
    "\n",
    "def calcul_TFTD(signal,nu):\n",
    "    N=signal.N\n",
    "    x = signal.x\n",
    "    X=np.zeros((np.size(nu)),complex)\n",
    "    no_nu=0\n",
    "    while (no_nu < np.size(nu)): \n",
    "        E=np.exp(-1j * 2*np.pi*np.arange(N)*nu[no_nu])\n",
    "        X[no_nu] = np.vdot(x, E)\n",
    "        no_nu=no_nu+1\n",
    "    return(X)\n",
    "\n",
    "def calcul_periodogramme(signal,nu):\n",
    "    X = calcul_TFTD(signal,nu)/np.sqrt(signal.N)\n",
    "    I = periodogramme\n",
    "    I.val = np.abs(X)**2 \n",
    "    I.nu = nu\n",
    "    I.Fe = signal.Fe\n",
    "    return(I)\n",
    "\n",
    "def extraire_periodogramme(I, nu_min, nu_max):\n",
    "    condition = (I.nu < nu_max ) * (I.nu > nu_min)\n",
    "    out = periodogramme\n",
    "    out.val = np.extract(condition, I.val)\n",
    "    out.nu = np.extract(condition, I.nu)\n",
    "    out.Fe = I.Fe\n",
    "    \n",
    "    return out\n"
   ]
  },
  {
   "cell_type": "markdown",
   "metadata": {},
   "source": [
    "### Question no 2 \n",
    "\n",
    "1. Créez un signal résultant de l'échantillonnage d'un signal réel sinusoïdal de fréquence $f_0=110$Hz en, choisissant $F_e=1000$Hz et une durée d'observation de $T=0.3$ seconde. \n",
    "2. Calculez son périodogramme de classe `periodogramme` en choisissant des fréquences `nu = np.arange(-1,1,0.001)`\n",
    "    et représentez son graphe. \n",
    "3. Représentez un zoom du périodogramme autour de la fréquence $f_0$ et évaluez graphiquement la largeur du lobe principal autour de $f_0$. \n",
    "    \n"
   ]
  },
  {
   "cell_type": "code",
   "execution_count": 26,
   "metadata": {},
   "outputs": [
    {
     "name": "stdout",
     "output_type": "stream",
     "text": [
      "20\n"
     ]
    },
    {
     "data": {
      "text/plain": [
       "[<matplotlib.lines.Line2D at 0x28d99201ac8>]"
      ]
     },
     "execution_count": 26,
     "metadata": {},
     "output_type": "execute_result"
    },
    {
     "data": {
      "image/png": "[encoded data removed]",
      "text/plain": [
       "<Figure size 432x288 with 1 Axes>"
      ]
     },
     "metadata": {
      "needs_background": "light"
     },
     "output_type": "display_data"
    }
   ],
   "source": [
    "# Partie 1\n",
    "def creer_signal_periodique(f0, T, Fs):\n",
    "    signalData = np.zeros(T.size)\n",
    "    \n",
    "    for Tindex in range(0, T.size):\n",
    "        t = Tindex/Fs\n",
    "        signalData[Tindex] = np.cos( 2*np.pi*f0*t)\n",
    "    \n",
    "    signal = creer_signal(signalData, Fs)\n",
    "    return signal\n",
    "\n",
    "f0 = 110\n",
    "Fe = 1000\n",
    "T = 0.3\n",
    "valeurs = np.arange(0, T, 1 / Fe)\n",
    "\n",
    "signal = creer_signal_periodique(f0, valeurs, Fe)\n",
    "#plt.plot(signal.t, signal.x)\n",
    "\n",
    "# Partie 2\n",
    "\n",
    "nu = np.arange(-1, 1, 0.001)\n",
    "I = calcul_periodogramme(signal, nu)\n",
    "\n",
    "#plt.plot(I.nu, I.val)\n",
    "\n",
    "# Partie 3\n",
    "\n",
    "periodoZoom = extraire_periodogramme(I, 0.1, 0.12)\n",
    "plt.plot(periodoZoom.nu, periodoZoom.val)\n",
    "\n",
    "# La largeur du lobe, est de 0.005\n"
   ]
  },
  {
   "cell_type": "markdown",
   "metadata": {},
   "source": [
    "### Question no 3\n",
    "\n",
    "1. Montrez que la TFTD du signal complexe $\\left( \\exp(i 2\\pi \\nu_0 n) \\right)_{n=0,...,N-1}$ est \n",
    "$$\n",
    "\\exp(i\\pi (\\nu_0-\\nu) (N-1)\\frac{\\sin(\\pi N (\\nu-\\nu_0) ) }{\\sin(\\pi (\\nu - \\nu_0))}\n",
    "$$\n",
    "Quel est le lien avec le noyau de Dirichlet? \n",
    "2. Quelle est la TFTD théorique du signal $\\left(\\cos(2\\pi \\nu_0 n) \\right)_{n=0,...,N-1}$? \n",
    "2. Justifier pourquoi, lorsque $\\nu_0$ n'est pas trop \"petite\", le périodogramme  du signal \n",
    "$\\left(\\cos(2\\pi \\nu_0 n) \\right)_{n=0,...,N-1}$ est constitué de lobes dont le principal est est centré en  $\\nu_0$, de largeur $2/N$. \n",
    "\n",
    "3. Quelle est l'atténuation en décibels entre le lobe principal et le premier lobe secondaire? (vous supposerez que $N$ est assez grand). \n",
    "\n",
    "4. Superposez sur un même graphe le périodogramme calculé numériquement et le périodogramme \"théorique\" calculé *via* l'expression donnée au-dessus. \n"
   ]
  },
  {
   "cell_type": "markdown",
   "metadata": {},
   "source": [
    "### Partie 1\n",
    "\n",
    "TODO recopier en latex\n",
    "\n",
    "### Partie 2\n",
    "\n",
    "TODO recopier en latex\n",
    "\n",
    "### Partie 3\n",
    "\n",
    "TODO recopier derniere partie cours en latex\n",
    "\n",
    "### Partie 4\n",
    "\n",
    "TODO revoir transition entre amplitude tftd et db\n",
    "\n"
   ]
  },
  {
   "cell_type": "markdown",
   "metadata": {},
   "source": [
    "### Question no 4\n",
    "\n",
    "Cette fois, le signal d'analyse est \n",
    "$$\n",
    "x(t)=\\cos(2\\pi f_0 t)+ \\frac{1}{2}\\cos(2\\pi f_1 t)\n",
    "$$\n",
    "et est observé pendant $T=0.3$ secondes. On supposera que  $f_0<f_1 < \\frac{F_e}{2}$. \n",
    "1. Justifiez brièvement pourquoi le périodogramme du signal laisse apparaître, si $f_1$ et $f_0$ sont \"assez éloignées\", deux pics situés en $\\nu_0=f_0 T_e$ et $\\nu_1=f_1 T_e$. \n",
    "2. Quelle est la condition dépendant de $f_1-f_0$ et $T$ pour que le périodogramme permette de discriminer les deux fréquences? \n",
    "3. Dessinez le périodogramme du signal (même figure, trois graphiques) dans les cas suivants :\n",
    "   \n",
    "   * $f_0=110$Hz, $f_1=120$Hz, $F_e=1000$Hz \n",
    "   * $f_0=110$Hz, $f_1=114$Hz, $F_e=1000$Hz\n",
    "   * $f_0=110$Hz, $f_1=111$Hz, $F_e=1000$Hz"
   ]
  },
  {
   "cell_type": "code",
   "execution_count": 66,
   "metadata": {},
   "outputs": [
    {
     "name": "stdout",
     "output_type": "stream",
     "text": [
      "40\n",
      "0\n"
     ]
    },
    {
     "data": {
      "text/plain": [
       "[<matplotlib.lines.Line2D at 0x28d9991dcc0>]"
      ]
     },
     "execution_count": 66,
     "metadata": {},
     "output_type": "execute_result"
    },
    {
     "data": {
      "image/png": "[encoded data removed]",
      "text/plain": [
       "<Figure size 432x288 with 1 Axes>"
      ]
     },
     "metadata": {
      "needs_background": "light"
     },
     "output_type": "display_data"
    }
   ],
   "source": [
    "# Partie 1\n",
    "\n",
    "# Fs = Pas d'échantillonage\n",
    "# T = \n",
    "def creer_signal_q4(f0, f1, T, Fs):\n",
    "    signalData = np.zeros(T.size)\n",
    "    \n",
    "    for Tindex in range(0, T.size):\n",
    "        t = Tindex/Fs\n",
    "        signalData[Tindex] = np.cos( 2*np.pi*f0*t) + (1/2 * np.cos( 2*np.pi*f1*t))\n",
    "    \n",
    "    signal = creer_signal(signalData, Fs)\n",
    "    return signal\n",
    "\n",
    "\n",
    "f0 = 110\n",
    "f1 = 220\n",
    "Fe = 1000\n",
    "T = 0.3\n",
    "valeurs = np.arange(0, T, 1 / Fe)\n",
    "\n",
    "signal = creer_signal_q4(f0, f1, valeurs, Fe)\n",
    "nu = np.arange(-1, 1, 0.001)\n",
    "I = calcul_periodogramme(signal, nu)\n",
    "\n",
    "#plt.plot(signal.t, signal.x)\n",
    "plt.plot(I.nu, I.val)\n",
    "\n",
    "periodoZoomNu1 = extraire_periodogramme(I, 0.2, 0.24)\n",
    "plt.plot(periodoZoomNu1.nu, periodoZoomNu1.val, color='red')\n",
    "\n",
    "periodoZoomNu0 = extraire_periodogramme(I, 0.1, 0.12)\n",
    "plt.plot(periodoZoomNu0.nu, periodoZoomNu0.val, color='green')\n"
   ]
  },
  {
   "cell_type": "markdown",
   "metadata": {},
   "source": [
    "### Partie 1\n",
    "\n",
    "Les deux pics représententents les harmoniques du signal, à savoir les fréquences 110Hz et 220Hz.\n",
    "\n",
    "En effectuant une mesure graphique du centre de chaque pics. On remarque que la première, qu'on note $\\nu_0$ vaut 0.110, et que la seconde, notée $\\nu_1$ vaut 0.220, ce qui correspond bien aux fréquences rentrées dans la création de la fonction.\n",
    "\n",
    "\n",
    "### Partie 2\n",
    "\n",
    "La condition dépendant de $f_1-f_0$ et $T$ pour que le périodogramme permette de discriminer les deux fréquences est :\n",
    "\n",
    "$ \\frac{f_1}{Fe} - \\frac{f_0}{Fe} >= \\frac{2}{T \\space \\times \\space T_e} $\n",
    "\n",
    "### Partie 3\n"
   ]
  },
  {
   "cell_type": "code",
   "execution_count": 69,
   "metadata": {},
   "outputs": [
    {
     "data": {
      "text/plain": [
       "[<matplotlib.lines.Line2D at 0x28d9998ec50>]"
      ]
     },
     "execution_count": 69,
     "metadata": {},
     "output_type": "execute_result"
    },
    {
     "data": {
      "image/png": "[encoded data removed]",
      "text/plain": [
       "<Figure size 432x288 with 1 Axes>"
      ]
     },
     "metadata": {
      "needs_background": "light"
     },
     "output_type": "display_data"
    }
   ],
   "source": [
    "Fe = 1000\n",
    "T = 0.3\n",
    "nu = np.arange(-1, 1, 0.001)\n",
    "valeurs = np.arange(0, T, 1 / Fe)\n",
    "\n",
    "f0 = 110\n",
    "f1 = 120\n",
    "signal1 = creer_signal_q4(f0, f1, valeurs, Fe)\n",
    "I1 = calcul_periodogramme(signal1, nu)\n",
    "\n",
    "f0 = 110\n",
    "f1 = 114\n",
    "signal2 = creer_signal_q4(f0, f1, valeurs, Fe)\n",
    "I2 = calcul_periodogramme(signal2, nu)\n",
    "\n",
    "f0 = 110\n",
    "f1 = 111\n",
    "signal3 = creer_signal_q4(f0, f1, valeurs, Fe)\n",
    "I3 = calcul_periodogramme(signal3, nu)\n",
    "\n",
    "\n",
    "plt.plot(I1.nu, I1.val, color='red')\n",
    "plt.plot(I2.nu, I2.val, color='blue')\n",
    "plt.plot(I3.nu, I3.val, color='orange')"
   ]
  },
  {
   "cell_type": "markdown",
   "metadata": {},
   "source": [
    "## II Application : calcul du périodogramme d'un signal acoustique\n",
    "\n",
    "Vous pouvez télécharger le fichier `Domine_quando_veneris_debut.wav`, l'écouter et le décoder dans votre environnement Python. Si vous voulez écouter l'intégralité du morceau, vous pouvez le télécharger ici :  https://www.dropbox.com/s/1nlvaq7hvrepyv0/1-01%20Domine%20quando%20veneris.wav?dl=0"
   ]
  },
  {
   "cell_type": "code",
   "execution_count": 3,
   "metadata": {},
   "outputs": [
    {
     "data": {
      "image/png": "[encoded data removed]",
      "text/plain": [
       "<Figure size 720x720 with 1 Axes>"
      ]
     },
     "metadata": {
      "needs_background": "light"
     },
     "output_type": "display_data"
    }
   ],
   "source": [
    "rate, data = io.read('Domine_quando_veneris_debut.wav')\n",
    "\n",
    "signal=creer_signal(data[:,0],rate)\n",
    "plt.figure(1,figsize = (10, 10)) \n",
    "plt.plot(signal.t,signal.x)\n",
    "plt.grid()\n",
    "plt.show()\n",
    "\n"
   ]
  },
  {
   "cell_type": "markdown",
   "metadata": {},
   "source": [
    "1. Vous travaillerez avec deux parties stationnaires du signal : \n",
    "  * `signal1` est le signal entre les instants $1.5$s et $2.5$s\n",
    "  * `signal2` est le signal entre les instants $5.5$s et $6.5$s\n",
    "Utilisez la fonction `extraire_signal` pour calculer les deux signaux ci-dessus. Dessinez le graphe de ces signaux.\n",
    "  \n",
    "2. Calculez le spectre de `signal1` pour les fréquences allant de $200$Hz à $2000$Hz avec un pas de $0.3$Hz et représentez son graphe en échelle logarithmique (axe des ordonnées). A quelles fréquences sont situés les pics du périodogramme? Concluez.\n",
    "3. Re prendre la question précédente mais cetet fois avec `signal2`. Peut-on estimer l'accord joué à l'orgue? \n"
   ]
  },
  {
   "cell_type": "code",
   "execution_count": 4,
   "metadata": {},
   "outputs": [
    {
     "ename": "NameError",
     "evalue": "name 'signal1' is not defined",
     "output_type": "error",
     "traceback": [
      "\u001b[1;31m---------------------------------------------------------------------------\u001b[0m",
      "\u001b[1;31mNameError\u001b[0m                                 Traceback (most recent call last)",
      "\u001b[1;32m<ipython-input-4-26c3df11787d>\u001b[0m in \u001b[0;36m<module>\u001b[1;34m\u001b[0m\n\u001b[0;32m      1\u001b[0m \u001b[0mnu\u001b[0m  \u001b[1;33m=\u001b[0m \u001b[0mnp\u001b[0m\u001b[1;33m.\u001b[0m\u001b[0marange\u001b[0m\u001b[1;33m(\u001b[0m\u001b[1;36m200\u001b[0m\u001b[1;33m,\u001b[0m\u001b[1;36m2000\u001b[0m\u001b[1;33m,\u001b[0m\u001b[1;36m0.3\u001b[0m\u001b[1;33m)\u001b[0m\u001b[1;33m/\u001b[0m\u001b[0msignal\u001b[0m\u001b[1;33m.\u001b[0m\u001b[0mFe\u001b[0m\u001b[1;33m\u001b[0m\u001b[1;33m\u001b[0m\u001b[0m\n\u001b[0;32m      2\u001b[0m \u001b[1;33m\u001b[0m\u001b[0m\n\u001b[1;32m----> 3\u001b[1;33m \u001b[0mI1\u001b[0m \u001b[1;33m=\u001b[0m \u001b[0mcalcul_periodogramme\u001b[0m\u001b[1;33m(\u001b[0m\u001b[0msignal1\u001b[0m\u001b[1;33m,\u001b[0m\u001b[0mnu\u001b[0m\u001b[1;33m)\u001b[0m\u001b[1;33m\u001b[0m\u001b[1;33m\u001b[0m\u001b[0m\n\u001b[0m\u001b[0;32m      4\u001b[0m \u001b[0mplt\u001b[0m\u001b[1;33m.\u001b[0m\u001b[0mfigure\u001b[0m\u001b[1;33m(\u001b[0m\u001b[1;36m1\u001b[0m\u001b[1;33m,\u001b[0m\u001b[0mfigsize\u001b[0m \u001b[1;33m=\u001b[0m \u001b[1;33m(\u001b[0m\u001b[1;36m10\u001b[0m\u001b[1;33m,\u001b[0m \u001b[1;36m10\u001b[0m\u001b[1;33m)\u001b[0m\u001b[1;33m)\u001b[0m\u001b[1;33m\u001b[0m\u001b[1;33m\u001b[0m\u001b[0m\n\u001b[0;32m      5\u001b[0m \u001b[0mplt\u001b[0m\u001b[1;33m.\u001b[0m\u001b[0mplot\u001b[0m\u001b[1;33m(\u001b[0m\u001b[1;33m(\u001b[0m\u001b[0mI2\u001b[0m\u001b[1;33m.\u001b[0m\u001b[0mnu\u001b[0m\u001b[1;33m)\u001b[0m\u001b[1;33m*\u001b[0m\u001b[0mI2\u001b[0m\u001b[1;33m.\u001b[0m\u001b[0mFe\u001b[0m\u001b[1;33m,\u001b[0m \u001b[0mnp\u001b[0m\u001b[1;33m.\u001b[0m\u001b[0mlog\u001b[0m\u001b[1;33m(\u001b[0m\u001b[0mI2\u001b[0m\u001b[1;33m.\u001b[0m\u001b[0mval\u001b[0m\u001b[1;33m)\u001b[0m\u001b[1;33m)\u001b[0m\u001b[1;33m\u001b[0m\u001b[1;33m\u001b[0m\u001b[0m\n",
      "\u001b[1;31mNameError\u001b[0m: name 'signal1' is not defined"
     ]
    }
   ],
   "source": [
    "nu  = np.arange(200,2000,0.3)/signal.Fe\n",
    "\n",
    "I1 = calcul_periodogramme(signal1,nu)\n",
    "plt.figure(1,figsize = (10, 10)) \n",
    "plt.plot((I2.nu)*I2.Fe, np.log(I2.val))\n",
    "plt.grid()\n",
    "plt.show()\n"
   ]
  }
 ],
 "metadata": {
  "kernelspec": {
   "display_name": "Python 3",
   "language": "python",
   "name": "python3"
  },
  "language_info": {
   "codemirror_mode": {
    "name": "ipython",
    "version": 3
   },
   "file_extension": ".py",
   "mimetype": "text/x-python",
   "name": "python",
   "nbconvert_exporter": "python",
   "pygments_lexer": "ipython3",
   "version": "3.7.1"
  }
 },
 "nbformat": 4,
 "nbformat_minor": 2
}
