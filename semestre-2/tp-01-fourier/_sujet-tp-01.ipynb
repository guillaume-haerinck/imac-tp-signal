{
 "cells": [
  {
   "cell_type": "markdown",
   "metadata": {},
   "source": [
    "## Travail à effectuer (sujet 1)\n",
    "\n",
    "1) Ecrire une fonction qui prend comme paramètres \n",
    "     * un signal (mono-dimensionnel) \n",
    "     * la fréquence d'échantillonnage\n",
    "     * un nom de fichier ```toto.wav```\n",
    "     et qui crée le fichier ```wav``` dans le répertoire courant. \n",
    "     \n",
    "2) Testez votre fonction sur le signal suivant : à partir de l'enregistrement ```la_piano.wav``` utilisé précédemment, créez le signal $y(t)=x(t)+a_1x(t-\\tau_1)+a_2x(t-\\tau_2)$ où vous choisirez vous-même les constantes $a_1,a_2,\\tau_1,\\tau_2$.\n",
    "\n",
    "3) Soit  le signal $$p_{f_0,K}(t)=\\left( \\cos(2\\pi f_0 t )\\right) ^{2K+1}$$ où $K$ est un entier naturel et $f_0$ une fréquence.  \n",
    "        Superposez les graphes de $p_{1,K}(t)$ sur l'intervalle $[-1.5 \\ , \\ 1.5]$ et pour les valeurs \n",
    "       $K \\in \\{1 , 4 , 20 \\}$ : vous choisirez 3 couleurs. \n",
    "        Vous ajouterez une légende. \n",
    "        Quelle est l'allure du graphe quand $K$ est très grand? Expliquez.    \n",
    "\n",
    "3) Soit le son suivant de synthèse suivant : $$y(t)=t^{\\alpha}e^{-\\sigma t} p_{f_0,K}(t) $$ défini pour tous les $t\\geq 0$. Vous choisirez d'abord le choix des paramètres suivant : \n",
    "      $\\alpha= 1$,       $\\sigma = 1$,      $f_0=440$Hz et       $K=2$. \n",
    " Créez ce signal : durée $5$ secondes, fréquence d'échantillonnage $F_s=44100$Hz. Visualisez-le. \n",
    " \n",
    "4) Encodez ce son en ```wav``` et écoutez. Commentez le résultat obtenu. \n",
    "\n",
    "5) Reprenez les deux questions précédentes mais cette fois en choisissant un autre jeu de paramètres (gardez $f_0=440$Hz) qui conduise à un son qui vous semble intéressant. Vous répondrez aux questions :\n",
    "    * quelle est l'influence de $\\sigma$?\n",
    "    * quelle est l'influence de $\\alpha$?\n",
    "    * percevez-vous des différences de timbre (à $\\sigma$ et $\\alpha$ fixés) lorsque $K$ croît? \n",
    "    \n",
    "6) Enregistrez un son de hauteur constante (une note tenue, donc) pendant avec un instrument que vous pratiquez (si vous ne pratiquez pas d'instrument, chantez!) et, comme indiqué en cours, représentez son graphe, un zoom sur une zone de durée $0.1$s et une zone de durée $0.01$s. Reprenez les fonctions que j'ai crées et que vous trouverez dans le notebook *notes de cours sur les séries de Fourier*.\n",
    "\n",
    "7) **optionnel : travail de recherche :** Développez un algorithme capable d'estimer l'enveloppe du son de piano. Ensuite, par une technique de moindres carrés, estimez le meilleur couple $(\\alpha,\\sigma)$ de notre modèle d'enveloppe qui permet un **ajustement  des données** (l'enveloppe estimée) au modèle. "
   ]
  },
  {
   "cell_type": "code",
   "execution_count": null,
   "metadata": {},
   "outputs": [],
   "source": []
  }
 ],
 "metadata": {
  "kernelspec": {
   "display_name": "Python 3",
   "language": "python",
   "name": "python3"
  },
  "language_info": {
   "codemirror_mode": {
    "name": "ipython",
    "version": 3
   },
   "file_extension": ".py",
   "mimetype": "text/x-python",
   "name": "python",
   "nbconvert_exporter": "python",
   "pygments_lexer": "ipython3",
   "version": "3.7.1"
  }
 },
 "nbformat": 4,
 "nbformat_minor": 2
}
