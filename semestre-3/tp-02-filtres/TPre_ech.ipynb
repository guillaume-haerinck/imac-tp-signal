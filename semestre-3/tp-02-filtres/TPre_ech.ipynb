{
 "cells": [
  {
   "cell_type": "markdown",
   "metadata": {},
   "source": [
    "# IMAC2 : TP de filtrage no 2 "
   ]
  },
  {
   "cell_type": "code",
   "execution_count": 1,
   "metadata": {},
   "outputs": [],
   "source": [
    "from scipy import signal\n",
    "from scipy.fftpack import fft, fftshift\n",
    "import matplotlib.pyplot as plt\n",
    "import numpy as np\n",
    "from scipy.io import wavfile as io\n",
    "\n",
    "def enregistrer_son(nom_fichier,s,Fs):\n",
    "    y=0.5*normaliser_son_mono(s)  ### le facteur 0.5 pour éviter d'exploser les oreilles...\n",
    "    scaled = np.round(32767*y)   ### passage en 16 bits\n",
    "    newdata = scaled.astype(np.int16)   ### conversion en type int\n",
    "    io.write(nom_fichier, Fs, newdata)   ### codage en wav\n",
    "\n",
    "    \n",
    "### A effectuer avant d'enregistrer : \n",
    "def normaliser_son_mono(x):\n",
    "    M = np.max(abs(x)); ## la plus grande valeur absolue du signal\n",
    "    return  x/M;      \n",
    "\n",
    "\n",
    "class periodogramme:\n",
    "    pass\n",
    "## on conviendra que les champs d'un periodogramme (appelons-le S) sont : \n",
    "##  S.val  : les valeurs du spectre \n",
    "##  S.nu : le vecteur des fréquences normalisées \n",
    "##  S.Fe : la frequence d'echantillonnage en Hz\n",
    "## EXEMPLE D'APPLICATION :  plt.plot((S.nu)*XS.Fs,S.val)\n",
    "\n",
    "def creer_periodogramme(valeurs,nu,Fs):\n",
    "    S=periodogramme()\n",
    "    S.val=valeurs\n",
    "    S.nu = nu\n",
    "    S.Fe = Fs\n",
    "    return(S)\n",
    "\n",
    "\n",
    "def calcul_periodogramme(x,Fe):\n",
    "    ### périodogramme moyenné. Sections de 0.1 seconde\n",
    "    N=len(x)\n",
    "    N1=int(np.floor(0.1*Fe))\n",
    "    K=int(np.floor(N/N1))\n",
    "    w=signal.hamming(N1)\n",
    "    ind1 = 0\n",
    "    ind2 = N1-1\n",
    "    b = w*x[ind1:(ind2+1)] \n",
    "    f, B = signal.periodogram(b, Fe)\n",
    "    B=B/N1\n",
    "    while ind2+N1<N:\n",
    "        ind1=ind1+N1\n",
    "        ind2=ind2+N1\n",
    "        b=w*x[ind1:(ind2+1)]\n",
    "        f, aux = signal.periodogram(b, Fe)\n",
    "        B=B+aux/N1\n",
    "    B=B/K\n",
    "    B=10*np.log10(B)\n",
    "    return(f,B)\n",
    "########### fin de la fonction \n",
    "\n",
    "\n"
   ]
  },
  {
   "cell_type": "code",
   "execution_count": 2,
   "metadata": {},
   "outputs": [],
   "source": [
    "## calcul de la RI du filtre PB ideal entre -N/2 et N/2\n",
    "## Attention! N doit être pair\n",
    "def PBideal(N,nu_c): \n",
    "    h=np.zeros(N+1)\n",
    "    M=int(N/2)\n",
    "    indices=np.arange(-M,M+1)\n",
    "    aux = indices != 0.0\n",
    "    ind2 = indices[aux]\n",
    "    h[aux] = np.sin(2*np.pi*nu_c*ind2)/(np.pi * ind2)\n",
    "    h[~aux]=2*nu_c\n",
    "    return(h)\n",
    "\n",
    "def PBfenetre(N,nu_c,type): \n",
    "    h1 = PBideal(N,nu_c); \n",
    "    M=int(N/2)\n",
    "    if type == \"rectangle\": \n",
    "        return(h1)\n",
    "    if type == \"triangle\":\n",
    "        indices=np.arange(-M,M+1)\n",
    "        w_triangle  = 1+ 2*(1-N)/(N*N)*np.abs(indices)\n",
    "        return(h1*w_triangle)\n",
    "    if type == \"hamming\": \n",
    "        w_hamming = signal.hamming(N+1)\n",
    "        return(h1*w_hamming)\n",
    "     \n"
   ]
  },
  {
   "cell_type": "code",
   "execution_count": 3,
   "metadata": {},
   "outputs": [
    {
     "data": {
      "text/plain": [
       "<Figure size 432x288 with 0 Axes>"
      ]
     },
     "metadata": {},
     "output_type": "display_data"
    },
    {
     "data": {
      "image/png": "[encoded data removed]",
      "text/plain": [
       "<Figure size 432x288 with 1 Axes>"
      ]
     },
     "metadata": {
      "needs_background": "light"
     },
     "output_type": "display_data"
    }
   ],
   "source": [
    "### Application re-echantillonnage\n",
    "K=40\n",
    "indices = np.arange(0,K)\n",
    "x = np.cos(2*np.pi*0.15*indices)\n",
    "\n",
    "ind2=np.arange(0,4*K,4)\n",
    "aux = np.array([1 , 0 , 0 , 0 ])\n",
    "x2 = np.kron(x,aux)\n",
    "plt.clf()\n",
    "nu_c=0.5/4\n",
    "N=20\n",
    "h3=PBfenetre(N,nu_c,\"hamming\")\n",
    "x3 = 4*signal.convolve(x2,h3)\n",
    "plt.figure(4)\n",
    "plt.clf()\n",
    "plt.plot(ind2+N/2,x,'or')\n",
    "plt.plot(x3,'xg')\n",
    "plt.show()"
   ]
  },
  {
   "cell_type": "code",
   "execution_count": 28,
   "metadata": {},
   "outputs": [],
   "source": [
    "Fe, data = io.read(\"SiTuDoisMourir.wav\")\n",
    "x = data[:,0] + data[:,1]\n",
    "q = 4\n",
    "a = np.array([1, 0, 0, 0])\n",
    "x_tilde = np.kron(x, a)\n",
    "\n",
    "# Un échantillon sur 3 de x_tilde\n",
    "y = x_tilde[1::3]\n",
    "enregistrer_son(\"SiTuDoisMourir_lent.wav\", y, Fe)\n",
    "\n",
    "N = int(4 / nu_c)\n",
    "nu_c = 1 / (2 * q)\n",
    "h = PBfenetre(N, nu_c, \"hamming\")\n",
    "x4 = signal.convolve(h, x_tilde)\n",
    "y = x4[1::3]\n",
    "enregistrer_son(\"SiTuDoisMourir_lent-hamming.wav\", y, Fe)"
   ]
  },
  {
   "cell_type": "code",
   "execution_count": null,
   "metadata": {},
   "outputs": [],
   "source": []
  }
 ],
 "metadata": {
  "kernelspec": {
   "display_name": "Python 3",
   "language": "python",
   "name": "python3"
  },
  "language_info": {
   "codemirror_mode": {
    "name": "ipython",
    "version": 3
   },
   "file_extension": ".py",
   "mimetype": "text/x-python",
   "name": "python",
   "nbconvert_exporter": "python",
   "pygments_lexer": "ipython3",
   "version": "3.7.1"
  }
 },
 "nbformat": 4,
 "nbformat_minor": 2
}
