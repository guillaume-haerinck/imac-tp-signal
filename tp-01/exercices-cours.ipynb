{
 "cells": [
  {
   "cell_type": "markdown",
   "metadata": {},
   "source": [
    "# Notes cours\n",
    "\n",
    "Le LA est à une fréquence de 440Hz, c'est à dire qu'il est périodique 440 fois par secondes.\n",
    "\n",
    "Quand on zoom près, le signal ressemble à un sinus, mais en s'éloignant, on remarque que le signal à de la déperdition. On peut modéliser cette évolution avec une `fonction d'attaque`. \n",
    "\n",
    "## Un modèle possible de fonction d'attaque\n",
    "\n",
    "$e(t)= t^\\alpha e^{ -\\sigma t }$\n",
    "\n",
    "avec $\\alpha, \\sigma > 0$ et t qui représente le temps\n",
    "\n",
    "Plus le sigma est grand, plus l'atténuation du son met du temps à arriver\n",
    "\n",
    "Pour la note LA, fonctionne avec  $\\alpha = 1, \\sigma = 1$\n",
    "\n",
    "## Pulsasions\n",
    "\n",
    "Notés en radians\n",
    "\n",
    "$f(t) = e(t) cos(\\omega_0 t)$\n",
    "\n",
    "$\\omega_0 = 2\\pi f_0$\n",
    "\n",
    "Avec $f_0$ une fréquence en Hz\n",
    "\n",
    "## Code python\n",
    "\n",
    "On évite d'utiliser les boucles, pour cela on utilise np.arrange, qui permet intilialize un tableau et le remplis avec i+1"
   ]
  },
  {
   "cell_type": "code",
   "execution_count": 2,
   "metadata": {},
   "outputs": [
    {
     "name": "stdout",
     "output_type": "stream",
     "text": [
      "[0 1 2 3 4 5 6 7]\n"
     ]
    }
   ],
   "source": [
    "import matplotlib.pyplot as plt\n",
    "import numpy as np\n",
    "\n",
    "a = np.arange(8)\n",
    "print(a)"
   ]
  },
  {
   "cell_type": "code",
   "execution_count": 29,
   "metadata": {},
   "outputs": [
    {
     "name": "stdout",
     "output_type": "stream",
     "text": [
      "[1 2]\n"
     ]
    }
   ],
   "source": [
    "# Les index de 1 à 3\n",
    "print(a[1:3])"
   ]
  },
  {
   "cell_type": "code",
   "execution_count": 30,
   "metadata": {},
   "outputs": [
    {
     "name": "stdout",
     "output_type": "stream",
     "text": [
      "[False False  True  True  True False False False]\n"
     ]
    }
   ],
   "source": [
    "# Vecteur de booleans\n",
    "b = (a >= 2) & (a <= 4)\n",
    "print(b)"
   ]
  },
  {
   "cell_type": "code",
   "execution_count": 31,
   "metadata": {},
   "outputs": [
    {
     "data": {
      "text/plain": [
       "array([2, 3, 4])"
      ]
     },
     "execution_count": 31,
     "metadata": {},
     "output_type": "execute_result"
    }
   ],
   "source": [
    "# Extrait du vecteur, les seules valeurs où b est vrai\n",
    "np.extract(b, a)"
   ]
  },
  {
   "cell_type": "code",
   "execution_count": 32,
   "metadata": {},
   "outputs": [
    {
     "name": "stdout",
     "output_type": "stream",
     "text": [
      "[0 0 2 3 4 0 0 0]\n"
     ]
    }
   ],
   "source": [
    "print(a * b)"
   ]
  },
  {
   "cell_type": "markdown",
   "metadata": {},
   "source": [
    "## Nouvel exercice"
   ]
  },
  {
   "cell_type": "markdown",
   "metadata": {},
   "source": [
    "### 1)\n",
    "\n",
    "$r(t)$ avec $t \\in R$\n",
    "\n",
    "$r(t) = 1$ si $t \\in [-1/4 , 1/4]$\n",
    "\n",
    "$r(t) = 0$ sinon"
   ]
  },
  {
   "cell_type": "code",
   "execution_count": 3,
   "metadata": {},
   "outputs": [
    {
     "data": {
      "text/plain": [
       "[<matplotlib.lines.Line2D at 0x23106b48dd8>]"
      ]
     },
     "execution_count": 3,
     "metadata": {},
     "output_type": "execute_result"
    },
    {
     "data": {
      "image/png": "[encoded data removed]",
      "text/plain": [
       "<Figure size 432x288 with 1 Axes>"
      ]
     },
     "metadata": {
      "needs_background": "light"
     },
     "output_type": "display_data"
    }
   ],
   "source": [
    "import matplotlib.pyplot as plt\n",
    "import numpy as np\n",
    "\n",
    "# Temps, entre -3 et 3\n",
    "t = np.arange(-3, 3, 0.01)\n",
    "\n",
    "# Vecteur de booleans\n",
    "b = (t >= -1/4) & (t <= 1/4)\n",
    "\n",
    "# Extrait du tableau temps les seuls moment ou b est vrai\n",
    "np.extract(b, t)\n",
    "\n",
    "# Dessin\n",
    "plt.plot(t, b)"
   ]
  },
  {
   "cell_type": "markdown",
   "metadata": {},
   "source": [
    "### 2) Periodicité"
   ]
  },
  {
   "cell_type": "code",
   "execution_count": 4,
   "metadata": {},
   "outputs": [
    {
     "data": {
      "text/plain": [
       "[<matplotlib.lines.Line2D at 0x2310664a400>]"
      ]
     },
     "execution_count": 4,
     "metadata": {},
     "output_type": "execute_result"
    },
    {
     "data": {
      "image/png": "[encoded data removed]",
      "text/plain": [
       "<Figure size 432x288 with 1 Axes>"
      ]
     },
     "metadata": {
      "needs_background": "light"
     },
     "output_type": "display_data"
    }
   ],
   "source": [
    "# Temps, entre -3 et 3\n",
    "t = np.arange(-3, 3, 0.01)\n",
    "\n",
    "# Vecteur de booleans\n",
    "b = 0 <= np.cos(2 * np.pi * t)\n",
    "\n",
    "# Extrait du tableau temps les seuls moment ou b est vrai\n",
    "np.extract(b, t)\n",
    "\n",
    "plt.plot(t, b)"
   ]
  },
  {
   "cell_type": "code",
   "execution_count": null,
   "metadata": {},
   "outputs": [],
   "source": []
  }
 ],
 "metadata": {
  "celltoolbar": "Format de la Cellule Texte Brut",
  "kernelspec": {
   "display_name": "Python 3",
   "language": "python",
   "name": "python3"
  },
  "language_info": {
   "codemirror_mode": {
    "name": "ipython",
    "version": 3
   },
   "file_extension": ".py",
   "mimetype": "text/x-python",
   "name": "python",
   "nbconvert_exporter": "python",
   "pygments_lexer": "ipython3",
   "version": "3.7.1"
  }
 },
 "nbformat": 4,
 "nbformat_minor": 2
}
